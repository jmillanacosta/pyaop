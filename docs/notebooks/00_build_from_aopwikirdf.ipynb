{
 "cells": [
  {
   "cell_type": "markdown",
   "id": "99aaddfe",
   "metadata": {},
   "source": [
    "# Building an AOP Network from AOP-Wiki RDF Data\n",
    "\n",
    "This notebook demonstrates how to build an Adverse Outcome Pathway (AOP) network by querying data from the [AOP-Wiki RDF](https://aopwiki.rdf.bigcat-bioinformatics.org/) with the `pyaop` library.\n",
    "\n",
    "The `AOPNetworkBuilder` class provides methods to construct the network by querying for AOPs, Key Events (KEs), Key Event Relationships (KERs) #TODO, Molecular Initiating Events (MIEs), genes, compounds, and Key Event components.\n",
    "\n",
    "After executing the queries, we can retrieve the resulting AOP network by getting the `network` attribute of the builder instance and export it to various formats for further analysis or visualization."
   ]
  },
  {
   "cell_type": "code",
   "execution_count": null,
   "id": "e23651f1",
   "metadata": {
    "vscode": {
     "languageId": "ruby"
    }
   },
   "outputs": [],
   "source": [
    "from pyaop.aop.builder import AOPNetworkBuilder"
   ]
  },
  {
   "cell_type": "markdown",
   "id": "024076ea",
   "metadata": {},
   "source": [
    "## Using the AOPNetworkBuilder\n",
    "\n",
    "An empty builder is initialized from the `AOPNetworkBuilder` class:\n"
   ]
  },
  {
   "cell_type": "code",
   "execution_count": 2,
   "id": "058eda29",
   "metadata": {
    "vscode": {
     "languageId": "ruby"
    }
   },
   "outputs": [
    {
     "name": "stdout",
     "output_type": "stream",
     "text": [
      "{'total_key_events': 0, 'mie_count': 0, 'ao_count': 0, 'ke_count': 0, 'ker_count': 0, 'gene_associations': 0, 'gene_expression_associations': 0, 'compound_associations': 0, 'component_associations': 0, 'total_aops': 0}\n"
     ]
    }
   ],
   "source": [
    "builder = AOPNetworkBuilder()\n",
    "print(builder.network.get_summary())"
   ]
  },
  {
   "cell_type": "markdown",
   "id": "4e9d55a0",
   "metadata": {},
   "source": [
    "The builder has several methods to query different aspects of the AOP network:"
   ]
  },
  {
   "cell_type": "code",
   "execution_count": 3,
   "id": "5ebe08ce",
   "metadata": {
    "vscode": {
     "languageId": "ruby"
    }
   },
   "outputs": [
    {
     "name": "stdout",
     "output_type": "stream",
     "text": [
      "- query_by_identifier\n",
      "- query_components_for_network\n",
      "- query_compounds_for_network\n",
      "- query_gene_expression\n",
      "- query_genes_for_ke\n",
      "- query_organs_for_kes\n"
     ]
    }
   ],
   "source": [
    "print(\"-\", \"\\n- \".join([i for i in dir(builder) if i.startswith(\"query\")]))"
   ]
  },
  {
   "cell_type": "markdown",
   "id": "7958a1b3",
   "metadata": {},
   "source": [
    "Querying will populate the `network` attribute of the builder instance, which is an `AOPNetwork` instance (see [notebook on AOPNetwork]())."
   ]
  },
  {
   "cell_type": "code",
   "execution_count": 4,
   "id": "441625ec",
   "metadata": {
    "vscode": {
     "languageId": "ruby"
    }
   },
   "outputs": [
    {
     "name": "stdout",
     "output_type": "stream",
     "text": [
      "<class 'pyaop.aop.core_model.AOPNetwork'>\n",
      "- network\n",
      "- query_by_identifier\n",
      "- query_components_for_network\n",
      "- query_compounds_for_network\n",
      "- query_gene_expression\n",
      "- query_genes_for_ke\n",
      "- query_organs_for_kes\n"
     ]
    }
   ],
   "source": [
    "print(type(builder.network))\n",
    "print(\"-\", \"\\n- \".join([i for i in dir(builder) if not i.startswith(\"_\")]))"
   ]
  },
  {
   "cell_type": "markdown",
   "id": "d7884512",
   "metadata": {},
   "source": [
    "### Querying AOPs\n",
    "\n",
    "The builder can retrieve Key Events and Key Event Relationships for all AOPs in the AOP-Wiki RDF by calling the `query_components_for_network` method on values:\n",
    "```python\n",
    "# AOP identifiers\n",
    "builder.query_by_identifier(\n",
    "    query_type=\"aop\", values=\"https://identifiers.org/aop/1 https://identifiers.org/aop/2\"\n",
    "# MIE identifiers\n",
    "builder.query_by_identifier(\n",
    "    query_type=\"mie\", values=\"https://identifiers.org/aop.events/1502\"\n",
    ")\n",
    "# Non-MIE KE identifiers\n",
    "builder.query_by_identifier(\n",
    "    query_type=\"ke\", values=\"https://identifiers.org/aop.events/1503\"\n",
    ")\n",
    "```"
   ]
  },
  {
   "cell_type": "markdown",
   "id": "9dc85d3b",
   "metadata": {},
   "source": [
    "In this example, we query for all KE downstream of the MIE with identifier https://identifiers.org/aop.events/1502 (Histone deacetylase inhibition)"
   ]
  },
  {
   "cell_type": "code",
   "execution_count": 5,
   "id": "147c9b2c",
   "metadata": {
    "vscode": {
     "languageId": "ruby"
    }
   },
   "outputs": [
    {
     "name": "stdout",
     "output_type": "stream",
     "text": [
      "{'total_key_events': 12, 'mie_count': 1, 'ao_count': 3, 'ke_count': 8, 'ker_count': 17, 'gene_associations': 0, 'gene_expression_associations': 0, 'compound_associations': 0, 'component_associations': 0, 'total_aops': 3}\n"
     ]
    }
   ],
   "source": [
    "builder.query_by_identifier(\n",
    "    query_type=\"mie\", values=\"https://identifiers.org/aop.events/1502\"\n",
    ")\n",
    "print(builder.network.get_summary())"
   ]
  },
  {
   "cell_type": "markdown",
   "id": "8f027722",
   "metadata": {},
   "source": [
    "### Querying gene associations\n",
    "The builder can also query for gene associations to KEs in the network. More on the provenance of these annotations in the [documentation]()."
   ]
  },
  {
   "cell_type": "code",
   "execution_count": 6,
   "id": "be6ff025",
   "metadata": {
    "vscode": {
     "languageId": "ruby"
    }
   },
   "outputs": [
    {
     "name": "stdout",
     "output_type": "stream",
     "text": [
      "[GeneAssociation(ke_uri='https://identifiers.org/aop.events/1503', gene_id='ENSG00000048052', protein_id=None), GeneAssociation(ke_uri='https://identifiers.org/aop.events/1557', gene_id='ENSG00000048052', protein_id=None), GeneAssociation(ke_uri='https://identifiers.org/aop.events/1502', gene_id='ENSG00000048052', protein_id=None), GeneAssociation(ke_uri='https://identifiers.org/aop.events/1515', gene_id='ENSG00000049130', protein_id=None), GeneAssociation(ke_uri='https://identifiers.org/aop.events/1502', gene_id='ENSG00000094631', protein_id=None), GeneAssociation(ke_uri='https://identifiers.org/aop.events/1262', gene_id='ENSG00000109320', protein_id=None), GeneAssociation(ke_uri='https://identifiers.org/aop.events/1505', gene_id='ENSG00000110427', protein_id=None), GeneAssociation(ke_uri='https://identifiers.org/aop.events/1262', gene_id='ENSG00000116478', protein_id=None), GeneAssociation(ke_uri='https://identifiers.org/aop.events/1515', gene_id='ENSG00000118971', protein_id=None), GeneAssociation(ke_uri='https://identifiers.org/aop.events/1262', gene_id='ENSG00000124762', protein_id=None), GeneAssociation(ke_uri='https://identifiers.org/aop.events/1262', gene_id='ENSG00000141510', protein_id=None), GeneAssociation(ke_uri='https://identifiers.org/aop.events/1502', gene_id='ENSG00000147099', protein_id=None), GeneAssociation(ke_uri='https://identifiers.org/aop.events/1502', gene_id='ENSG00000163517', protein_id=None), GeneAssociation(ke_uri='https://identifiers.org/aop.events/1502', gene_id='ENSG00000167815', protein_id=None), GeneAssociation(ke_uri='https://identifiers.org/aop.events/1557', gene_id='ENSG00000167815', protein_id=None), GeneAssociation(ke_uri='https://identifiers.org/aop.events/1262', gene_id='ENSG00000167815', protein_id=None), GeneAssociation(ke_uri='https://identifiers.org/aop.events/1515', gene_id='ENSG00000171791', protein_id=None), GeneAssociation(ke_uri='https://identifiers.org/aop.events/1262', gene_id='ENSG00000171791', protein_id=None), GeneAssociation(ke_uri='https://identifiers.org/aop.events/1262', gene_id='ENSG00000172465', protein_id=None), GeneAssociation(ke_uri='https://identifiers.org/aop.events/1502', gene_id='ENSG00000184260', protein_id=None), GeneAssociation(ke_uri='https://identifiers.org/aop.events/1503', gene_id='ENSG00000184260', protein_id=None), GeneAssociation(ke_uri='https://identifiers.org/aop.events/1502', gene_id='ENSG00000184678', protein_id=None), GeneAssociation(ke_uri='https://identifiers.org/aop.events/1503', gene_id='ENSG00000184678', protein_id=None), GeneAssociation(ke_uri='https://identifiers.org/aop.events/1505', gene_id='ENSG00000204469', protein_id=None), GeneAssociation(ke_uri='https://identifiers.org/aop.events/1515', gene_id='ENSG00000211918', protein_id=None), GeneAssociation(ke_uri='https://identifiers.org/aop.events/1505', gene_id='ENSG00000229150', protein_id=None)]\n"
     ]
    }
   ],
   "source": [
    "builder.query_genes_for_ke(include_proteins=False)\n",
    "print(builder.network.gene_associations)"
   ]
  },
  {
   "cell_type": "markdown",
   "id": "7f794c2b",
   "metadata": {},
   "source": [
    "### Querying compound (stressor) associations\n",
    "The builder can also query for compound (stressor) associations to KEs in the network. More on the provenance of these annotations in the [documentation]()."
   ]
  },
  {
   "cell_type": "code",
   "execution_count": 7,
   "id": "68a843ca",
   "metadata": {
    "vscode": {
     "languageId": "ruby"
    }
   },
   "outputs": [
    {
     "name": "stdout",
     "output_type": "stream",
     "text": [
      "{'total_key_events': 12, 'mie_count': 1, 'ao_count': 3, 'ke_count': 8, 'ker_count': 17, 'gene_associations': 26, 'gene_expression_associations': 0, 'compound_associations': 10, 'component_associations': 0, 'total_aops': 3}\n",
      "[CompoundAssociation(aop_uri='https://identifiers.org/aop/274', mie_uri='https://identifiers.org/aop.events/1502', chemical_uri='https://identifiers.org/cas/183506-66-3', chemical_label='Apicidin', pubchem_compound='https://identifiers.org/pubchem.compound/467801', compound_name='Apicidin', cas_id='467801'), CompoundAssociation(aop_uri='https://identifiers.org/aop/274', mie_uri='https://identifiers.org/aop.events/1502', chemical_uri='https://identifiers.org/cas/183506-66-3', chemical_label='Apicidin', pubchem_compound='https://identifiers.org/pubchem.compound/6918328', compound_name='Apicidin', cas_id='6918328'), CompoundAssociation(aop_uri='https://identifiers.org/aop/274', mie_uri='https://identifiers.org/aop.events/1502', chemical_uri='https://identifiers.org/cas/461-55-2', chemical_label='Butyrate', pubchem_compound='https://identifiers.org/pubchem.compound/104775', compound_name='Butyrate', cas_id='104775'), CompoundAssociation(aop_uri='https://identifiers.org/aop/212', mie_uri='https://identifiers.org/aop.events/1502', chemical_uri='https://identifiers.org/cas/461-55-2', chemical_label='Butyrate', pubchem_compound='https://identifiers.org/pubchem.compound/104775', compound_name='Butyrate', cas_id='104775'), CompoundAssociation(aop_uri='https://identifiers.org/aop/274', mie_uri='https://identifiers.org/aop.events/1502', chemical_uri='https://identifiers.org/cas/209783-80-2', chemical_label='MS-275', pubchem_compound='https://identifiers.org/pubchem.compound/4261', compound_name='MS-275', cas_id='4261'), CompoundAssociation(aop_uri='https://identifiers.org/aop/212', mie_uri='https://identifiers.org/aop.events/1502', chemical_uri='https://identifiers.org/cas/625-45-6', chemical_label='Methoxyacetic acid', pubchem_compound='https://identifiers.org/pubchem.compound/12251', compound_name='Methoxyacetic acid', cas_id='12251'), CompoundAssociation(aop_uri='https://identifiers.org/aop/274', mie_uri='https://identifiers.org/aop.events/1502', chemical_uri='https://identifiers.org/cas/149647-78-9', chemical_label='Suberoylanilide hydroxamic acid', pubchem_compound='https://identifiers.org/pubchem.compound/5311', compound_name='Suberoylanilide hydroxamic acid', cas_id='5311'), CompoundAssociation(aop_uri='https://identifiers.org/aop/212', mie_uri='https://identifiers.org/aop.events/1502', chemical_uri='https://identifiers.org/cas/58880-19-6', chemical_label='Trichostatin A', pubchem_compound='https://identifiers.org/pubchem.compound/444732', compound_name='Trichostatin A', cas_id='444732'), CompoundAssociation(aop_uri='https://identifiers.org/aop/274', mie_uri='https://identifiers.org/aop.events/1502', chemical_uri='https://identifiers.org/cas/58880-19-6', chemical_label='Trichostatin A', pubchem_compound='https://identifiers.org/pubchem.compound/444732', compound_name='Trichostatin A', cas_id='444732'), CompoundAssociation(aop_uri='https://identifiers.org/aop/274', mie_uri='https://identifiers.org/aop.events/1502', chemical_uri='https://identifiers.org/cas/99-66-1', chemical_label='Valproic acid', pubchem_compound='https://identifiers.org/pubchem.compound/3121', compound_name='Valproic acid', cas_id='3121')]\n"
     ]
    }
   ],
   "source": [
    "builder.query_compounds_for_network()\n",
    "print(builder.network.get_summary())\n",
    "print(builder.network.compound_associations)"
   ]
  },
  {
   "cell_type": "markdown",
   "id": "c76e79a0",
   "metadata": {},
   "source": [
    "### Querying AOP Component associations\n",
    "The builder can also query for AOP components for the KEs in the network. More on the provenance of these annotations in the [documentation]()."
   ]
  },
  {
   "cell_type": "code",
   "execution_count": 8,
   "id": "c8dfe09b",
   "metadata": {
    "vscode": {
     "languageId": "ruby"
    }
   },
   "outputs": [
    {
     "name": "stdout",
     "output_type": "stream",
     "text": [
      "{'total_key_events': 12, 'mie_count': 1, 'ao_count': 3, 'ke_count': 8, 'ker_count': 17, 'gene_associations': 26, 'gene_expression_associations': 0, 'compound_associations': 10, 'component_associations': 7, 'total_aops': 3}\n",
      "[ComponentAssociation(ke_uri='https://identifiers.org/aop.events/1239', ke_name='', process='http://purl.obolibrary.org/obo/GO_0010467', process_name='gene expression', object='', object_name='', action='abnormal', object_type=''), ComponentAssociation(ke_uri='https://identifiers.org/aop.events/1262', ke_name='', process='http://purl.obolibrary.org/obo/GO_0006915', process_name='apoptotic process', object='', object_name='', action='increased', object_type=''), ComponentAssociation(ke_uri='https://identifiers.org/aop.events/1502', ke_name='', process='http://purl.obolibrary.org/obo/GO_0004857', process_name='enzyme inhibitor activity', object='http://purl.obolibrary.org/obo/PR_000008478', object_name='histone deacetylase 1', action='decreased', object_type='http://purl.obolibrary.org/obo/PATO_0001241'), ComponentAssociation(ke_uri='https://identifiers.org/aop.events/1503', ke_name='', process='http://purl.obolibrary.org/obo/GO_0031399', process_name='regulation of protein modification process', object='http://purl.obolibrary.org/obo/CHEBI_15358', object_name='histone', action='increased', object_type='http://purl.obolibrary.org/obo/PATO_0001241'), ComponentAssociation(ke_uri='https://identifiers.org/aop.events/1505', ke_name='', process='http://purl.obolibrary.org/obo/GO_0051726', process_name='regulation of cell cycle', object='http://purl.obolibrary.org/obo/PR_000029191', object_name='cell cycle-related cyclin', action='disrupted', object_type='http://purl.obolibrary.org/obo/PATO_0001241'), ComponentAssociation(ke_uri='https://identifiers.org/aop.events/1506', ke_name='', process='http://purl.obolibrary.org/obo/HP_0000029', process_name='Testicular atrophy', object='http://purl.obolibrary.org/obo/FMA_7210', object_name='Testis', action='increased', object_type='http://purl.obolibrary.org/obo/PATO_0001241'), ComponentAssociation(ke_uri='https://identifiers.org/aop.events/1560', ke_name='', process='http://purl.obolibrary.org/obo/GO_0030154', process_name='cell differentiation', object='http://purl.obolibrary.org/obo/GO_0005623', object_name='cell', action='abnormal', object_type='http://purl.obolibrary.org/obo/PATO_0001241')]\n"
     ]
    }
   ],
   "source": [
    "builder.query_components_for_network()\n",
    "print(builder.network.get_summary())\n",
    "print(builder.network.component_associations)"
   ]
  },
  {
   "cell_type": "markdown",
   "id": "c11c4eb0",
   "metadata": {},
   "source": [
    "## Exporting the resulting AOP Network\n",
    "After building the network, we can export it to various formats:\n",
    "\n",
    "### Export to Cytoscape JSON\n",
    "The network and its styles are exported to Cytoscape JSON format using the `to_cytoscape_elements` method."
   ]
  },
  {
   "cell_type": "code",
   "execution_count": 15,
   "id": "d459c9fc",
   "metadata": {
    "vscode": {
     "languageId": "ruby"
    }
   },
   "outputs": [
    {
     "name": "stdout",
     "output_type": "stream",
     "text": [
      "dict_keys(['elements', 'style', 'layout'])\n"
     ]
    }
   ],
   "source": [
    "my_aop_network = builder.network\n",
    "cy_network = my_aop_network.to_cytoscape_elements()\n",
    "print(cy_network.keys())"
   ]
  },
  {
   "cell_type": "code",
   "execution_count": 23,
   "id": "5d05ffbd",
   "metadata": {
    "vscode": {
     "languageId": "ruby"
    }
   },
   "outputs": [],
   "source": [
    "elements = cy_network[\"elements\"]\n",
    "stylesheet = cy_network[\"style\"]\n",
    "layout = cy_network[\"layout\"]"
   ]
  },
  {
   "cell_type": "code",
   "execution_count": 24,
   "id": "7fb0d09d",
   "metadata": {},
   "outputs": [
    {
     "data": {
      "text/html": [
       "\n",
       "        <iframe\n",
       "            width=\"100%\"\n",
       "            height=\"650\"\n",
       "            src=\"http://127.0.0.1:8050/\"\n",
       "            frameborder=\"0\"\n",
       "            allowfullscreen\n",
       "            \n",
       "        ></iframe>\n",
       "        "
      ],
      "text/plain": [
       "<IPython.lib.display.IFrame at 0x7a067c11fc50>"
      ]
     },
     "metadata": {},
     "output_type": "display_data"
    }
   ],
   "source": [
    "from dash import Dash, html\n",
    "import dash_cytoscape as cyto\n",
    "\n",
    "app = Dash()\n",
    "\n",
    "app.layout = html.Div(\n",
    "    [\n",
    "        cyto.Cytoscape(\n",
    "            id=\"cytoscape-aop-network\",\n",
    "            layout=layout,\n",
    "            stylesheet=stylesheet,\n",
    "            elements=elements,\n",
    "            style={\"width\": \"100%\", \"height\": \"800px\"},\n",
    "        )\n",
    "    ]\n",
    ")\n",
    "\n",
    "app.run(debug=True, export=True)"
   ]
  },
  {
   "cell_type": "markdown",
   "id": "7e5772ae",
   "metadata": {},
   "source": [
    "### Export to Cytoscape CX2\n",
    "The network, metadata, and its styles are exported to Cytoscape Export format (CX2) using the `to_cx2` method."
   ]
  },
  {
   "cell_type": "code",
   "execution_count": 11,
   "id": "356f689d",
   "metadata": {},
   "outputs": [],
   "source": [
    "#TBD"
   ]
  },
  {
   "cell_type": "markdown",
   "id": "9fde2bc4",
   "metadata": {
    "vscode": {
     "languageId": "ruby"
    }
   },
   "source": [
    "### Export to Cytoscape CX2\n",
    "The network, metadata, and its styles are exported to Cytoscape Export format (CX2) using the `to_cx2` method."
   ]
  },
  {
   "cell_type": "code",
   "execution_count": 12,
   "id": "2dcdb5a2",
   "metadata": {},
   "outputs": [],
   "source": [
    "#TBD"
   ]
  },
  {
   "cell_type": "markdown",
   "id": "39380150",
   "metadata": {},
   "source": [
    "### Export to Neo4j\n",
    "The network, metadata, and its styles are exported to Neo4j `to_neo4j` method."
   ]
  },
  {
   "cell_type": "code",
   "execution_count": 13,
   "id": "ce24c1b7",
   "metadata": {},
   "outputs": [],
   "source": [
    "#TBD"
   ]
  },
  {
   "cell_type": "markdown",
   "id": "9ff6a288",
   "metadata": {},
   "source": [
    "### Export to RDF\n",
    "The network, metadata, and its styles are exported to AOP-Wiki RDF schema-compliant format using the `to_rdf` method."
   ]
  },
  {
   "cell_type": "code",
   "execution_count": 14,
   "id": "1737f40d",
   "metadata": {},
   "outputs": [],
   "source": [
    "#TBD"
   ]
  }
 ],
 "metadata": {
  "kernelspec": {
   "display_name": "pyaop",
   "language": "python",
   "name": "python3"
  },
  "language_info": {
   "codemirror_mode": {
    "name": "ipython",
    "version": 3
   },
   "file_extension": ".py",
   "mimetype": "text/x-python",
   "name": "python",
   "nbconvert_exporter": "python",
   "pygments_lexer": "ipython3",
   "version": "3.11.12"
  }
 },
 "nbformat": 4,
 "nbformat_minor": 5
}
