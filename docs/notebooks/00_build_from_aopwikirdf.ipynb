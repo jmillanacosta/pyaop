{
 "cells": [
  {
   "cell_type": "markdown",
   "id": "99aaddfe",
   "metadata": {},
   "source": [
    "# Building an AOP Network from AOP-Wiki RDF Data\n",
    "\n",
    "This notebook demonstrates how to build an Adverse Outcome Pathway (AOP) network by querying data from the [AOP-Wiki RDF](https://aopwiki.rdf.bigcat-bioinformatics.org/) with the `pyaop` library.\n",
    "\n",
    "The `AOPNetworkBuilder` class provides methods to construct the network by querying for AOPs, Key Events (KEs), Key Event Relationships (KERs), Molecular Initiating Events (MIEs), genes, compounds, and Key Event components.\n",
    "\n",
    "After executing the queries, we can retrieve the resulting AOP network by getting the `network` attribute of the builder instance and export it to various formats for further analysis or visualization."
   ]
  },
  {
   "cell_type": "code",
   "execution_count": 1,
   "id": "e23651f1",
   "metadata": {
    "vscode": {
     "languageId": "ruby"
    }
   },
   "outputs": [],
   "source": [
    "from pyaop.aop.builder import AOPNetworkBuilder"
   ]
  },
  {
   "cell_type": "markdown",
   "id": "024076ea",
   "metadata": {},
   "source": [
    "## Using the AOPNetworkBuilder\n",
    "\n",
    "An empty builder is initialized from the `AOPNetworkBuilder` class:\n"
   ]
  },
  {
   "cell_type": "code",
   "execution_count": 2,
   "id": "058eda29",
   "metadata": {
    "vscode": {
     "languageId": "ruby"
    }
   },
   "outputs": [
    {
     "name": "stdout",
     "output_type": "stream",
     "text": [
      "{'total_key_events': 0, 'mie_count': 0, 'ao_count': 0, 'ke_count': 0, 'ker_count': 0, 'gene_associations': 0, 'gene_expression_associations': 0, 'compound_associations': 0, 'component_associations': 0, 'total_aops': 0}\n"
     ]
    }
   ],
   "source": [
    "builder = AOPNetworkBuilder()\n",
    "print(builder.network.get_summary())"
   ]
  },
  {
   "cell_type": "markdown",
   "id": "4e9d55a0",
   "metadata": {},
   "source": [
    "The builder has several methods to query different aspects of the AOP network:"
   ]
  },
  {
   "cell_type": "code",
   "execution_count": 3,
   "id": "5ebe08ce",
   "metadata": {
    "vscode": {
     "languageId": "ruby"
    }
   },
   "outputs": [
    {
     "name": "stdout",
     "output_type": "stream",
     "text": [
      "- query_by_identifier\n",
      "- query_components_for_network\n",
      "- query_compounds_for_network\n",
      "- query_genes_for_ke\n",
      "- query_organs_for_kes\n"
     ]
    }
   ],
   "source": [
    "print(\"-\", \"\\n- \".join([i for i in dir(builder) if i.startswith(\"query\")]))"
   ]
  },
  {
   "cell_type": "markdown",
   "id": "7958a1b3",
   "metadata": {},
   "source": [
    "Querying will populate the `network` attribute of the builder instance, which is an `AOPNetwork` instance (see [notebook on AOPNetwork]())."
   ]
  },
  {
   "cell_type": "code",
   "execution_count": 4,
   "id": "441625ec",
   "metadata": {
    "vscode": {
     "languageId": "ruby"
    }
   },
   "outputs": [
    {
     "name": "stdout",
     "output_type": "stream",
     "text": [
      "<class 'pyaop.aop.core_model.AOPNetwork'>\n",
      "- add_gene_expression_associations\n",
      "- build\n",
      "- network\n",
      "- query_by_identifier\n",
      "- query_components_for_network\n",
      "- query_compounds_for_network\n",
      "- query_genes_for_ke\n",
      "- query_organs_for_kes\n"
     ]
    }
   ],
   "source": [
    "print(type(builder.network))\n",
    "print(\"-\", \"\\n- \".join([i for i in dir(builder) if not i.startswith(\"_\")]))"
   ]
  },
  {
   "cell_type": "markdown",
   "id": "d7884512",
   "metadata": {},
   "source": [
    "### Querying AOPs\n",
    "\n",
    "The builder can retrieve Key Events and Key Event Relationships for all AOPs in the AOP-Wiki RDF by calling the `query_components_for_network` method on\n",
    "```python\n",
    "# AOP identifiers\n",
    "builder.query_by_identifier(\n",
    "    query_type=\"aop\", values=\"https://identifiers.org/aop/1 https://identifiers.org/aop/2\"\n",
    "# MIE identifiers\n",
    "builder.query_by_identifier(\n",
    "    query_type=\"mie\", values=\"https://identifiers.org/aop.events/1502\"\n",
    ")\n",
    "# Non-MIE KE identifiers\n",
    "builder.query_by_identifier(\n",
    "    query_type=\"ke\", values=\"https://identifiers.org/aop.events/1503\"\n",
    ")\n",
    "```"
   ]
  },
  {
   "cell_type": "markdown",
   "id": "9dc85d3b",
   "metadata": {},
   "source": [
    "In this example, we query for all KE downstream of the MIE with identifier https://identifiers.org/aop.events/1502 (Histone deacetylase inhibition)"
   ]
  },
  {
   "cell_type": "code",
   "execution_count": 5,
   "id": "147c9b2c",
   "metadata": {
    "vscode": {
     "languageId": "ruby"
    }
   },
   "outputs": [
    {
     "name": "stdout",
     "output_type": "stream",
     "text": [
      "{'total_key_events': 12, 'mie_count': 1, 'ao_count': 3, 'ke_count': 8, 'ker_count': 17, 'gene_associations': 0, 'gene_expression_associations': 0, 'compound_associations': 0, 'component_associations': 0, 'total_aops': 3}\n"
     ]
    }
   ],
   "source": [
    "builder.query_by_identifier(\n",
    "    query_type=\"mie\", values=\"https://identifiers.org/aop.events/1502\"\n",
    ")\n",
    "print(builder.network.get_summary())"
   ]
  },
  {
   "cell_type": "markdown",
   "id": "8f027722",
   "metadata": {},
   "source": [
    "### Querying gene associations\n",
    "The builder can also query for gene associations to KEs in the network. More on the provenance of these annotations in the [documentation]()."
   ]
  },
  {
   "cell_type": "code",
   "execution_count": 6,
   "id": "be6ff025",
   "metadata": {
    "vscode": {
     "languageId": "ruby"
    }
   },
   "outputs": [
    {
     "name": "stdout",
     "output_type": "stream",
     "text": [
      "[GeneAssociation(ke_uri='https://identifiers.org/aop.events/1503', gene_id='ENSG00000048052', protein_id=None), GeneAssociation(ke_uri='https://identifiers.org/aop.events/1557', gene_id='ENSG00000048052', protein_id=None), GeneAssociation(ke_uri='https://identifiers.org/aop.events/1502', gene_id='ENSG00000048052', protein_id=None), GeneAssociation(ke_uri='https://identifiers.org/aop.events/1515', gene_id='ENSG00000049130', protein_id=None), GeneAssociation(ke_uri='https://identifiers.org/aop.events/1502', gene_id='ENSG00000094631', protein_id=None), GeneAssociation(ke_uri='https://identifiers.org/aop.events/1262', gene_id='ENSG00000109320', protein_id=None), GeneAssociation(ke_uri='https://identifiers.org/aop.events/1505', gene_id='ENSG00000110427', protein_id=None), GeneAssociation(ke_uri='https://identifiers.org/aop.events/1262', gene_id='ENSG00000116478', protein_id=None), GeneAssociation(ke_uri='https://identifiers.org/aop.events/1515', gene_id='ENSG00000118971', protein_id=None), GeneAssociation(ke_uri='https://identifiers.org/aop.events/1262', gene_id='ENSG00000124762', protein_id=None), GeneAssociation(ke_uri='https://identifiers.org/aop.events/1262', gene_id='ENSG00000141510', protein_id=None), GeneAssociation(ke_uri='https://identifiers.org/aop.events/1502', gene_id='ENSG00000147099', protein_id=None), GeneAssociation(ke_uri='https://identifiers.org/aop.events/1502', gene_id='ENSG00000163517', protein_id=None), GeneAssociation(ke_uri='https://identifiers.org/aop.events/1502', gene_id='ENSG00000167815', protein_id=None), GeneAssociation(ke_uri='https://identifiers.org/aop.events/1557', gene_id='ENSG00000167815', protein_id=None), GeneAssociation(ke_uri='https://identifiers.org/aop.events/1262', gene_id='ENSG00000167815', protein_id=None), GeneAssociation(ke_uri='https://identifiers.org/aop.events/1515', gene_id='ENSG00000171791', protein_id=None), GeneAssociation(ke_uri='https://identifiers.org/aop.events/1262', gene_id='ENSG00000171791', protein_id=None), GeneAssociation(ke_uri='https://identifiers.org/aop.events/1262', gene_id='ENSG00000172465', protein_id=None), GeneAssociation(ke_uri='https://identifiers.org/aop.events/1502', gene_id='ENSG00000184260', protein_id=None), GeneAssociation(ke_uri='https://identifiers.org/aop.events/1503', gene_id='ENSG00000184260', protein_id=None), GeneAssociation(ke_uri='https://identifiers.org/aop.events/1502', gene_id='ENSG00000184678', protein_id=None), GeneAssociation(ke_uri='https://identifiers.org/aop.events/1503', gene_id='ENSG00000184678', protein_id=None), GeneAssociation(ke_uri='https://identifiers.org/aop.events/1505', gene_id='ENSG00000204469', protein_id=None), GeneAssociation(ke_uri='https://identifiers.org/aop.events/1515', gene_id='ENSG00000211918', protein_id=None), GeneAssociation(ke_uri='https://identifiers.org/aop.events/1505', gene_id='ENSG00000229150', protein_id=None)]\n"
     ]
    }
   ],
   "source": [
    "builder.query_genes_for_ke(include_proteins=False)\n",
    "print(builder.network.gene_associations)"
   ]
  },
  {
   "cell_type": "markdown",
   "id": "7f794c2b",
   "metadata": {},
   "source": [
    "### Querying compound (stressor) associations\n",
    "The builder can also query for compound (stressor) associations to KEs in the network. More on the provenance of these annotations in the [documentation]()."
   ]
  },
  {
   "cell_type": "code",
   "execution_count": 7,
   "id": "68a843ca",
   "metadata": {
    "vscode": {
     "languageId": "ruby"
    }
   },
   "outputs": [
    {
     "name": "stdout",
     "output_type": "stream",
     "text": [
      "{'total_key_events': 12, 'mie_count': 1, 'ao_count': 3, 'ke_count': 8, 'ker_count': 17, 'gene_associations': 26, 'gene_expression_associations': 0, 'compound_associations': 10, 'component_associations': 0, 'total_aops': 3}\n",
      "[CompoundAssociation(aop_uri='https://identifiers.org/aop/274', mie_uri='https://identifiers.org/aop.events/1502', chemical_uri='https://identifiers.org/cas/183506-66-3', chemical_label='Apicidin', pubchem_compound='https://identifiers.org/pubchem.compound/467801', compound_name='Apicidin', cas_id='467801'), CompoundAssociation(aop_uri='https://identifiers.org/aop/274', mie_uri='https://identifiers.org/aop.events/1502', chemical_uri='https://identifiers.org/cas/183506-66-3', chemical_label='Apicidin', pubchem_compound='https://identifiers.org/pubchem.compound/6918328', compound_name='Apicidin', cas_id='6918328'), CompoundAssociation(aop_uri='https://identifiers.org/aop/274', mie_uri='https://identifiers.org/aop.events/1502', chemical_uri='https://identifiers.org/cas/461-55-2', chemical_label='Butyrate', pubchem_compound='https://identifiers.org/pubchem.compound/104775', compound_name='Butyrate', cas_id='104775'), CompoundAssociation(aop_uri='https://identifiers.org/aop/212', mie_uri='https://identifiers.org/aop.events/1502', chemical_uri='https://identifiers.org/cas/461-55-2', chemical_label='Butyrate', pubchem_compound='https://identifiers.org/pubchem.compound/104775', compound_name='Butyrate', cas_id='104775'), CompoundAssociation(aop_uri='https://identifiers.org/aop/274', mie_uri='https://identifiers.org/aop.events/1502', chemical_uri='https://identifiers.org/cas/209783-80-2', chemical_label='MS-275', pubchem_compound='https://identifiers.org/pubchem.compound/4261', compound_name='MS-275', cas_id='4261'), CompoundAssociation(aop_uri='https://identifiers.org/aop/212', mie_uri='https://identifiers.org/aop.events/1502', chemical_uri='https://identifiers.org/cas/625-45-6', chemical_label='Methoxyacetic acid', pubchem_compound='https://identifiers.org/pubchem.compound/12251', compound_name='Methoxyacetic acid', cas_id='12251'), CompoundAssociation(aop_uri='https://identifiers.org/aop/274', mie_uri='https://identifiers.org/aop.events/1502', chemical_uri='https://identifiers.org/cas/149647-78-9', chemical_label='Suberoylanilide hydroxamic acid', pubchem_compound='https://identifiers.org/pubchem.compound/5311', compound_name='Suberoylanilide hydroxamic acid', cas_id='5311'), CompoundAssociation(aop_uri='https://identifiers.org/aop/212', mie_uri='https://identifiers.org/aop.events/1502', chemical_uri='https://identifiers.org/cas/58880-19-6', chemical_label='Trichostatin A', pubchem_compound='https://identifiers.org/pubchem.compound/444732', compound_name='Trichostatin A', cas_id='444732'), CompoundAssociation(aop_uri='https://identifiers.org/aop/274', mie_uri='https://identifiers.org/aop.events/1502', chemical_uri='https://identifiers.org/cas/58880-19-6', chemical_label='Trichostatin A', pubchem_compound='https://identifiers.org/pubchem.compound/444732', compound_name='Trichostatin A', cas_id='444732'), CompoundAssociation(aop_uri='https://identifiers.org/aop/274', mie_uri='https://identifiers.org/aop.events/1502', chemical_uri='https://identifiers.org/cas/99-66-1', chemical_label='Valproic acid', pubchem_compound='https://identifiers.org/pubchem.compound/3121', compound_name='Valproic acid', cas_id='3121')]\n"
     ]
    }
   ],
   "source": [
    "builder.query_compounds_for_network()\n",
    "print(builder.network.get_summary())\n",
    "print(builder.network.compound_associations)"
   ]
  },
  {
   "cell_type": "markdown",
   "id": "c76e79a0",
   "metadata": {},
   "source": [
    "### Querying AOP Component associations\n",
    "The builder can also query for AOP components for the KEs in the network. More on the provenance of these annotations in the [documentation]()."
   ]
  },
  {
   "cell_type": "code",
   "execution_count": 8,
   "id": "c8dfe09b",
   "metadata": {
    "vscode": {
     "languageId": "ruby"
    }
   },
   "outputs": [
    {
     "name": "stdout",
     "output_type": "stream",
     "text": [
      "{'total_key_events': 12, 'mie_count': 1, 'ao_count': 3, 'ke_count': 8, 'ker_count': 17, 'gene_associations': 26, 'gene_expression_associations': 0, 'compound_associations': 10, 'component_associations': 7, 'total_aops': 3}\n",
      "[ComponentAssociation(ke_uri='https://identifiers.org/aop.events/1239', ke_name='', process='http://purl.obolibrary.org/obo/GO_0010467', process_name='gene expression', object='', object_name='', action='abnormal', object_type=''), ComponentAssociation(ke_uri='https://identifiers.org/aop.events/1262', ke_name='', process='http://purl.obolibrary.org/obo/GO_0006915', process_name='apoptotic process', object='', object_name='', action='increased', object_type=''), ComponentAssociation(ke_uri='https://identifiers.org/aop.events/1502', ke_name='', process='http://purl.obolibrary.org/obo/GO_0004857', process_name='enzyme inhibitor activity', object='http://purl.obolibrary.org/obo/PR_000008478', object_name='histone deacetylase 1', action='decreased', object_type='http://purl.obolibrary.org/obo/PATO_0001241'), ComponentAssociation(ke_uri='https://identifiers.org/aop.events/1503', ke_name='', process='http://purl.obolibrary.org/obo/GO_0031399', process_name='regulation of protein modification process', object='http://purl.obolibrary.org/obo/CHEBI_15358', object_name='histone', action='increased', object_type='http://purl.obolibrary.org/obo/PATO_0001241'), ComponentAssociation(ke_uri='https://identifiers.org/aop.events/1505', ke_name='', process='http://purl.obolibrary.org/obo/GO_0051726', process_name='regulation of cell cycle', object='http://purl.obolibrary.org/obo/PR_000029191', object_name='cell cycle-related cyclin', action='disrupted', object_type='http://purl.obolibrary.org/obo/PATO_0001241'), ComponentAssociation(ke_uri='https://identifiers.org/aop.events/1506', ke_name='', process='http://purl.obolibrary.org/obo/HP_0000029', process_name='Testicular atrophy', object='http://purl.obolibrary.org/obo/FMA_7210', object_name='Testis', action='increased', object_type='http://purl.obolibrary.org/obo/PATO_0001241'), ComponentAssociation(ke_uri='https://identifiers.org/aop.events/1560', ke_name='', process='http://purl.obolibrary.org/obo/GO_0030154', process_name='cell differentiation', object='http://purl.obolibrary.org/obo/GO_0005623', object_name='cell', action='abnormal', object_type='http://purl.obolibrary.org/obo/PATO_0001241')]\n"
     ]
    }
   ],
   "source": [
    "builder.query_components_for_network()\n",
    "print(builder.network.get_summary())\n",
    "print(builder.network.component_associations)"
   ]
  },
  {
   "cell_type": "markdown",
   "id": "c11c4eb0",
   "metadata": {},
   "source": [
    "## Exporting the resulting AOP Network\n",
    "After building the network, we can export it to various formats:\n",
    "\n",
    "### Export to Cytoscape JSON\n",
    "The network and its styles are exported to Cytoscape JSON format using the `to_cytoscape_elements` method."
   ]
  },
  {
   "cell_type": "code",
   "execution_count": 9,
   "id": "d459c9fc",
   "metadata": {
    "vscode": {
     "languageId": "ruby"
    }
   },
   "outputs": [
    {
     "name": "stdout",
     "output_type": "stream",
     "text": [
      "{'elements': [{'data': {'id': 'https://identifiers.org/aop.events/1502', 'label': 'Histone deacetylase inhibition', 'type': 'mie', 'is_mie': True, 'is_ao': False, 'aop_uris': ['https://identifiers.org/aop/212', 'https://identifiers.org/aop/274', 'https://identifiers.org/aop/275'], 'aop_titles': ['Histone deacetylase inhibition leading to testicular atrophy', 'Histone deacetylase inhibition leads to impeded craniofacial development', 'Histone deacetylase inhibition leads to neural tube defects']}}, {'data': {'id': 'https://identifiers.org/aop.events/1506', 'label': 'Testicular atrophy', 'type': 'ao', 'is_mie': False, 'is_ao': True, 'aop_uris': ['https://identifiers.org/aop/212'], 'aop_titles': ['Histone deacetylase inhibition leading to testicular atrophy']}}, {'data': {'id': 'https://identifiers.org/aop.events/1515', 'label': 'Spermatocyte depletion', 'type': 'ke', 'is_mie': False, 'is_ao': False, 'aop_uris': ['https://identifiers.org/aop/212'], 'aop_titles': ['Histone deacetylase inhibition leading to testicular atrophy']}}, {'data': {'id': 'https://identifiers.org/aop.events/1505', 'label': 'Cell cycle, disrupted', 'type': 'ke', 'is_mie': False, 'is_ao': False, 'aop_uris': ['https://identifiers.org/aop/212'], 'aop_titles': ['Histone deacetylase inhibition leading to testicular atrophy']}}, {'data': {'id': 'https://identifiers.org/aop.events/1262', 'label': 'Apoptosis', 'type': 'ke', 'is_mie': False, 'is_ao': False, 'aop_uris': ['https://identifiers.org/aop/212'], 'aop_titles': ['Histone deacetylase inhibition leading to testicular atrophy']}}, {'data': {'id': 'https://identifiers.org/aop.events/1503', 'label': 'Histone acetylation, increase', 'type': 'ke', 'is_mie': False, 'is_ao': False, 'aop_uris': ['https://identifiers.org/aop/212', 'https://identifiers.org/aop/275'], 'aop_titles': ['Histone deacetylase inhibition leading to testicular atrophy', 'Histone deacetylase inhibition leads to neural tube defects']}}, {'data': {'id': 'https://identifiers.org/aop.events/1559', 'label': 'Facial cartilage structures are reduced in size and morphologically distorted', 'type': 'ao', 'is_mie': False, 'is_ao': True, 'aop_uris': ['https://identifiers.org/aop/274'], 'aop_titles': ['Histone deacetylase inhibition leads to impeded craniofacial development']}}, {'data': {'id': 'https://identifiers.org/aop.events/1558', 'label': 'Collagen production, reduced', 'type': 'ke', 'is_mie': False, 'is_ao': False, 'aop_uris': ['https://identifiers.org/aop/274'], 'aop_titles': ['Histone deacetylase inhibition leads to impeded craniofacial development']}}, {'data': {'id': 'https://identifiers.org/aop.events/1557', 'label': 'Neural crest cell migration, reduced', 'type': 'ke', 'is_mie': False, 'is_ao': False, 'aop_uris': ['https://identifiers.org/aop/274'], 'aop_titles': ['Histone deacetylase inhibition leads to impeded craniofacial development']}}, {'data': {'id': 'https://identifiers.org/aop.events/1561', 'label': 'Neural tube defects', 'type': 'ao', 'is_mie': False, 'is_ao': True, 'aop_uris': ['https://identifiers.org/aop/275'], 'aop_titles': ['Histone deacetylase inhibition leads to neural tube defects']}}, {'data': {'id': 'https://identifiers.org/aop.events/1239', 'label': 'Altered, Gene Expression', 'type': 'ke', 'is_mie': False, 'is_ao': False, 'aop_uris': ['https://identifiers.org/aop/275'], 'aop_titles': ['Histone deacetylase inhibition leads to neural tube defects']}}, {'data': {'id': 'https://identifiers.org/aop.events/1560', 'label': 'Cell differentiation, altered', 'type': 'ke', 'is_mie': False, 'is_ao': False, 'aop_uris': ['https://identifiers.org/aop/275'], 'aop_titles': ['Histone deacetylase inhibition leads to neural tube defects']}}, {'data': {'id': 'https://identifiers.org/aop.events/1515_https://identifiers.org/aop.events/1506', 'source': 'https://identifiers.org/aop.events/1515', 'target': 'https://identifiers.org/aop.events/1506', 'curie': 'aop.relationships:1734', 'ker_label': '1734', 'type': 'ker'}}, {'data': {'id': 'https://identifiers.org/aop.events/1505_https://identifiers.org/aop.events/1262', 'source': 'https://identifiers.org/aop.events/1505', 'target': 'https://identifiers.org/aop.events/1262', 'curie': 'aop.relationships:1712', 'ker_label': '1712', 'type': 'ker'}}, {'data': {'id': 'https://identifiers.org/aop.events/1502_https://identifiers.org/aop.events/1515', 'source': 'https://identifiers.org/aop.events/1502', 'target': 'https://identifiers.org/aop.events/1515', 'curie': 'aop.relationships:2010', 'ker_label': '2010', 'type': 'ker'}}, {'data': {'id': 'https://identifiers.org/aop.events/1502_https://identifiers.org/aop.events/1262', 'source': 'https://identifiers.org/aop.events/1502', 'target': 'https://identifiers.org/aop.events/1262', 'curie': 'aop.relationships:1716', 'ker_label': '1716', 'type': 'ker'}}, {'data': {'id': 'https://identifiers.org/aop.events/1502_https://identifiers.org/aop.events/1505', 'source': 'https://identifiers.org/aop.events/1502', 'target': 'https://identifiers.org/aop.events/1505', 'curie': 'aop.relationships:1715', 'ker_label': '1715', 'type': 'ker'}}, {'data': {'id': 'https://identifiers.org/aop.events/1262_https://identifiers.org/aop.events/1515', 'source': 'https://identifiers.org/aop.events/1262', 'target': 'https://identifiers.org/aop.events/1515', 'curie': 'aop.relationships:1735', 'ker_label': '1735', 'type': 'ker'}}, {'data': {'id': 'https://identifiers.org/aop.events/1503_https://identifiers.org/aop.events/1505', 'source': 'https://identifiers.org/aop.events/1503', 'target': 'https://identifiers.org/aop.events/1505', 'curie': 'aop.relationships:1997', 'ker_label': '1997', 'type': 'ker'}}, {'data': {'id': 'https://identifiers.org/aop.events/1502_https://identifiers.org/aop.events/1503', 'source': 'https://identifiers.org/aop.events/1502', 'target': 'https://identifiers.org/aop.events/1503', 'curie': 'aop.relationships:1709', 'ker_label': '1709', 'type': 'ker'}}, {'data': {'id': 'https://identifiers.org/aop.events/1502_https://identifiers.org/aop.events/1506', 'source': 'https://identifiers.org/aop.events/1502', 'target': 'https://identifiers.org/aop.events/1506', 'curie': 'aop.relationships:1717', 'ker_label': '1717', 'type': 'ker'}}, {'data': {'id': 'https://identifiers.org/aop.events/1502_https://identifiers.org/aop.events/1558', 'source': 'https://identifiers.org/aop.events/1502', 'target': 'https://identifiers.org/aop.events/1558', 'curie': 'aop.relationships:1805', 'ker_label': '1805', 'type': 'ker'}}, {'data': {'id': 'https://identifiers.org/aop.events/1557_https://identifiers.org/aop.events/1558', 'source': 'https://identifiers.org/aop.events/1557', 'target': 'https://identifiers.org/aop.events/1558', 'curie': 'aop.relationships:1803', 'ker_label': '1803', 'type': 'ker'}}, {'data': {'id': 'https://identifiers.org/aop.events/1502_https://identifiers.org/aop.events/1557', 'source': 'https://identifiers.org/aop.events/1502', 'target': 'https://identifiers.org/aop.events/1557', 'curie': 'aop.relationships:1802', 'ker_label': '1802', 'type': 'ker'}}, {'data': {'id': 'https://identifiers.org/aop.events/1558_https://identifiers.org/aop.events/1559', 'source': 'https://identifiers.org/aop.events/1558', 'target': 'https://identifiers.org/aop.events/1559', 'curie': 'aop.relationships:1804', 'ker_label': '1804', 'type': 'ker'}}, {'data': {'id': 'https://identifiers.org/aop.events/1239_https://identifiers.org/aop.events/1560', 'source': 'https://identifiers.org/aop.events/1239', 'target': 'https://identifiers.org/aop.events/1560', 'curie': 'aop.relationships:1807', 'ker_label': '1807', 'type': 'ker'}}, {'data': {'id': 'https://identifiers.org/aop.events/1502_https://identifiers.org/aop.events/1503', 'source': 'https://identifiers.org/aop.events/1502', 'target': 'https://identifiers.org/aop.events/1503', 'curie': 'aop.relationships:1709', 'ker_label': '1709', 'type': 'ker'}}, {'data': {'id': 'https://identifiers.org/aop.events/1503_https://identifiers.org/aop.events/1239', 'source': 'https://identifiers.org/aop.events/1503', 'target': 'https://identifiers.org/aop.events/1239', 'curie': 'aop.relationships:1806', 'ker_label': '1806', 'type': 'ker'}}, {'data': {'id': 'https://identifiers.org/aop.events/1560_https://identifiers.org/aop.events/1561', 'source': 'https://identifiers.org/aop.events/1560', 'target': 'https://identifiers.org/aop.events/1561', 'curie': 'aop.relationships:1808', 'ker_label': '1808', 'type': 'ker'}}, {'data': {'id': 'gene_ENSG00000048052', 'label': 'ENSG00000048052', 'type': 'gene', 'gene_id': 'ENSG00000048052'}, 'classes': 'gene-node'}, {'data': {'id': 'gene_ENSG00000048052_https://identifiers.org/aop.events/1503', 'source': 'gene_ENSG00000048052', 'target': 'https://identifiers.org/aop.events/1503', 'label': 'part of', 'type': 'part_of'}}, {'data': {'id': 'gene_ENSG00000048052', 'label': 'ENSG00000048052', 'type': 'gene', 'gene_id': 'ENSG00000048052'}, 'classes': 'gene-node'}, {'data': {'id': 'gene_ENSG00000048052_https://identifiers.org/aop.events/1557', 'source': 'gene_ENSG00000048052', 'target': 'https://identifiers.org/aop.events/1557', 'label': 'part of', 'type': 'part_of'}}, {'data': {'id': 'gene_ENSG00000048052', 'label': 'ENSG00000048052', 'type': 'gene', 'gene_id': 'ENSG00000048052'}, 'classes': 'gene-node'}, {'data': {'id': 'gene_ENSG00000048052_https://identifiers.org/aop.events/1502', 'source': 'gene_ENSG00000048052', 'target': 'https://identifiers.org/aop.events/1502', 'label': 'part of', 'type': 'part_of'}}, {'data': {'id': 'gene_ENSG00000049130', 'label': 'ENSG00000049130', 'type': 'gene', 'gene_id': 'ENSG00000049130'}, 'classes': 'gene-node'}, {'data': {'id': 'gene_ENSG00000049130_https://identifiers.org/aop.events/1515', 'source': 'gene_ENSG00000049130', 'target': 'https://identifiers.org/aop.events/1515', 'label': 'part of', 'type': 'part_of'}}, {'data': {'id': 'gene_ENSG00000094631', 'label': 'ENSG00000094631', 'type': 'gene', 'gene_id': 'ENSG00000094631'}, 'classes': 'gene-node'}, {'data': {'id': 'gene_ENSG00000094631_https://identifiers.org/aop.events/1502', 'source': 'gene_ENSG00000094631', 'target': 'https://identifiers.org/aop.events/1502', 'label': 'part of', 'type': 'part_of'}}, {'data': {'id': 'gene_ENSG00000109320', 'label': 'ENSG00000109320', 'type': 'gene', 'gene_id': 'ENSG00000109320'}, 'classes': 'gene-node'}, {'data': {'id': 'gene_ENSG00000109320_https://identifiers.org/aop.events/1262', 'source': 'gene_ENSG00000109320', 'target': 'https://identifiers.org/aop.events/1262', 'label': 'part of', 'type': 'part_of'}}, {'data': {'id': 'gene_ENSG00000110427', 'label': 'ENSG00000110427', 'type': 'gene', 'gene_id': 'ENSG00000110427'}, 'classes': 'gene-node'}, {'data': {'id': 'gene_ENSG00000110427_https://identifiers.org/aop.events/1505', 'source': 'gene_ENSG00000110427', 'target': 'https://identifiers.org/aop.events/1505', 'label': 'part of', 'type': 'part_of'}}, {'data': {'id': 'gene_ENSG00000116478', 'label': 'ENSG00000116478', 'type': 'gene', 'gene_id': 'ENSG00000116478'}, 'classes': 'gene-node'}, {'data': {'id': 'gene_ENSG00000116478_https://identifiers.org/aop.events/1262', 'source': 'gene_ENSG00000116478', 'target': 'https://identifiers.org/aop.events/1262', 'label': 'part of', 'type': 'part_of'}}, {'data': {'id': 'gene_ENSG00000118971', 'label': 'ENSG00000118971', 'type': 'gene', 'gene_id': 'ENSG00000118971'}, 'classes': 'gene-node'}, {'data': {'id': 'gene_ENSG00000118971_https://identifiers.org/aop.events/1515', 'source': 'gene_ENSG00000118971', 'target': 'https://identifiers.org/aop.events/1515', 'label': 'part of', 'type': 'part_of'}}, {'data': {'id': 'gene_ENSG00000124762', 'label': 'ENSG00000124762', 'type': 'gene', 'gene_id': 'ENSG00000124762'}, 'classes': 'gene-node'}, {'data': {'id': 'gene_ENSG00000124762_https://identifiers.org/aop.events/1262', 'source': 'gene_ENSG00000124762', 'target': 'https://identifiers.org/aop.events/1262', 'label': 'part of', 'type': 'part_of'}}, {'data': {'id': 'gene_ENSG00000141510', 'label': 'ENSG00000141510', 'type': 'gene', 'gene_id': 'ENSG00000141510'}, 'classes': 'gene-node'}, {'data': {'id': 'gene_ENSG00000141510_https://identifiers.org/aop.events/1262', 'source': 'gene_ENSG00000141510', 'target': 'https://identifiers.org/aop.events/1262', 'label': 'part of', 'type': 'part_of'}}, {'data': {'id': 'gene_ENSG00000147099', 'label': 'ENSG00000147099', 'type': 'gene', 'gene_id': 'ENSG00000147099'}, 'classes': 'gene-node'}, {'data': {'id': 'gene_ENSG00000147099_https://identifiers.org/aop.events/1502', 'source': 'gene_ENSG00000147099', 'target': 'https://identifiers.org/aop.events/1502', 'label': 'part of', 'type': 'part_of'}}, {'data': {'id': 'gene_ENSG00000163517', 'label': 'ENSG00000163517', 'type': 'gene', 'gene_id': 'ENSG00000163517'}, 'classes': 'gene-node'}, {'data': {'id': 'gene_ENSG00000163517_https://identifiers.org/aop.events/1502', 'source': 'gene_ENSG00000163517', 'target': 'https://identifiers.org/aop.events/1502', 'label': 'part of', 'type': 'part_of'}}, {'data': {'id': 'gene_ENSG00000167815', 'label': 'ENSG00000167815', 'type': 'gene', 'gene_id': 'ENSG00000167815'}, 'classes': 'gene-node'}, {'data': {'id': 'gene_ENSG00000167815_https://identifiers.org/aop.events/1502', 'source': 'gene_ENSG00000167815', 'target': 'https://identifiers.org/aop.events/1502', 'label': 'part of', 'type': 'part_of'}}, {'data': {'id': 'gene_ENSG00000167815', 'label': 'ENSG00000167815', 'type': 'gene', 'gene_id': 'ENSG00000167815'}, 'classes': 'gene-node'}, {'data': {'id': 'gene_ENSG00000167815_https://identifiers.org/aop.events/1557', 'source': 'gene_ENSG00000167815', 'target': 'https://identifiers.org/aop.events/1557', 'label': 'part of', 'type': 'part_of'}}, {'data': {'id': 'gene_ENSG00000167815', 'label': 'ENSG00000167815', 'type': 'gene', 'gene_id': 'ENSG00000167815'}, 'classes': 'gene-node'}, {'data': {'id': 'gene_ENSG00000167815_https://identifiers.org/aop.events/1262', 'source': 'gene_ENSG00000167815', 'target': 'https://identifiers.org/aop.events/1262', 'label': 'part of', 'type': 'part_of'}}, {'data': {'id': 'gene_ENSG00000171791', 'label': 'ENSG00000171791', 'type': 'gene', 'gene_id': 'ENSG00000171791'}, 'classes': 'gene-node'}, {'data': {'id': 'gene_ENSG00000171791_https://identifiers.org/aop.events/1515', 'source': 'gene_ENSG00000171791', 'target': 'https://identifiers.org/aop.events/1515', 'label': 'part of', 'type': 'part_of'}}, {'data': {'id': 'gene_ENSG00000171791', 'label': 'ENSG00000171791', 'type': 'gene', 'gene_id': 'ENSG00000171791'}, 'classes': 'gene-node'}, {'data': {'id': 'gene_ENSG00000171791_https://identifiers.org/aop.events/1262', 'source': 'gene_ENSG00000171791', 'target': 'https://identifiers.org/aop.events/1262', 'label': 'part of', 'type': 'part_of'}}, {'data': {'id': 'gene_ENSG00000172465', 'label': 'ENSG00000172465', 'type': 'gene', 'gene_id': 'ENSG00000172465'}, 'classes': 'gene-node'}, {'data': {'id': 'gene_ENSG00000172465_https://identifiers.org/aop.events/1262', 'source': 'gene_ENSG00000172465', 'target': 'https://identifiers.org/aop.events/1262', 'label': 'part of', 'type': 'part_of'}}, {'data': {'id': 'gene_ENSG00000184260', 'label': 'ENSG00000184260', 'type': 'gene', 'gene_id': 'ENSG00000184260'}, 'classes': 'gene-node'}, {'data': {'id': 'gene_ENSG00000184260_https://identifiers.org/aop.events/1502', 'source': 'gene_ENSG00000184260', 'target': 'https://identifiers.org/aop.events/1502', 'label': 'part of', 'type': 'part_of'}}, {'data': {'id': 'gene_ENSG00000184260', 'label': 'ENSG00000184260', 'type': 'gene', 'gene_id': 'ENSG00000184260'}, 'classes': 'gene-node'}, {'data': {'id': 'gene_ENSG00000184260_https://identifiers.org/aop.events/1503', 'source': 'gene_ENSG00000184260', 'target': 'https://identifiers.org/aop.events/1503', 'label': 'part of', 'type': 'part_of'}}, {'data': {'id': 'gene_ENSG00000184678', 'label': 'ENSG00000184678', 'type': 'gene', 'gene_id': 'ENSG00000184678'}, 'classes': 'gene-node'}, {'data': {'id': 'gene_ENSG00000184678_https://identifiers.org/aop.events/1502', 'source': 'gene_ENSG00000184678', 'target': 'https://identifiers.org/aop.events/1502', 'label': 'part of', 'type': 'part_of'}}, {'data': {'id': 'gene_ENSG00000184678', 'label': 'ENSG00000184678', 'type': 'gene', 'gene_id': 'ENSG00000184678'}, 'classes': 'gene-node'}, {'data': {'id': 'gene_ENSG00000184678_https://identifiers.org/aop.events/1503', 'source': 'gene_ENSG00000184678', 'target': 'https://identifiers.org/aop.events/1503', 'label': 'part of', 'type': 'part_of'}}, {'data': {'id': 'gene_ENSG00000204469', 'label': 'ENSG00000204469', 'type': 'gene', 'gene_id': 'ENSG00000204469'}, 'classes': 'gene-node'}, {'data': {'id': 'gene_ENSG00000204469_https://identifiers.org/aop.events/1505', 'source': 'gene_ENSG00000204469', 'target': 'https://identifiers.org/aop.events/1505', 'label': 'part of', 'type': 'part_of'}}, {'data': {'id': 'gene_ENSG00000211918', 'label': 'ENSG00000211918', 'type': 'gene', 'gene_id': 'ENSG00000211918'}, 'classes': 'gene-node'}, {'data': {'id': 'gene_ENSG00000211918_https://identifiers.org/aop.events/1515', 'source': 'gene_ENSG00000211918', 'target': 'https://identifiers.org/aop.events/1515', 'label': 'part of', 'type': 'part_of'}}, {'data': {'id': 'gene_ENSG00000229150', 'label': 'ENSG00000229150', 'type': 'gene', 'gene_id': 'ENSG00000229150'}, 'classes': 'gene-node'}, {'data': {'id': 'gene_ENSG00000229150_https://identifiers.org/aop.events/1505', 'source': 'gene_ENSG00000229150', 'target': 'https://identifiers.org/aop.events/1505', 'label': 'part of', 'type': 'part_of'}}, {'data': {'id': 'chemical_467801', 'label': 'Apicidin', 'type': 'chemical', 'pubchem_id': '467801', 'cas_id': '467801', 'chemical_label': 'Apicidin', 'compound_name': 'Apicidin', 'pubchem_compound': 'https://identifiers.org/pubchem.compound/467801'}, 'classes': 'chemical-node'}, {'data': {'id': 'chemical_467801_https://identifiers.org/aop.events/1502', 'source': 'chemical_467801', 'target': 'https://identifiers.org/aop.events/1502', 'label': 'is stressor of', 'type': 'is stressor of'}}, {'data': {'id': 'chemical_6918328', 'label': 'Apicidin', 'type': 'chemical', 'pubchem_id': '6918328', 'cas_id': '6918328', 'chemical_label': 'Apicidin', 'compound_name': 'Apicidin', 'pubchem_compound': 'https://identifiers.org/pubchem.compound/6918328'}, 'classes': 'chemical-node'}, {'data': {'id': 'chemical_6918328_https://identifiers.org/aop.events/1502', 'source': 'chemical_6918328', 'target': 'https://identifiers.org/aop.events/1502', 'label': 'is stressor of', 'type': 'is stressor of'}}, {'data': {'id': 'chemical_104775', 'label': 'Butyrate', 'type': 'chemical', 'pubchem_id': '104775', 'cas_id': '104775', 'chemical_label': 'Butyrate', 'compound_name': 'Butyrate', 'pubchem_compound': 'https://identifiers.org/pubchem.compound/104775'}, 'classes': 'chemical-node'}, {'data': {'id': 'chemical_104775_https://identifiers.org/aop.events/1502', 'source': 'chemical_104775', 'target': 'https://identifiers.org/aop.events/1502', 'label': 'is stressor of', 'type': 'is stressor of'}}, {'data': {'id': 'chemical_104775', 'label': 'Butyrate', 'type': 'chemical', 'pubchem_id': '104775', 'cas_id': '104775', 'chemical_label': 'Butyrate', 'compound_name': 'Butyrate', 'pubchem_compound': 'https://identifiers.org/pubchem.compound/104775'}, 'classes': 'chemical-node'}, {'data': {'id': 'chemical_104775_https://identifiers.org/aop.events/1502', 'source': 'chemical_104775', 'target': 'https://identifiers.org/aop.events/1502', 'label': 'is stressor of', 'type': 'is stressor of'}}, {'data': {'id': 'chemical_4261', 'label': 'MS-275', 'type': 'chemical', 'pubchem_id': '4261', 'cas_id': '4261', 'chemical_label': 'MS-275', 'compound_name': 'MS-275', 'pubchem_compound': 'https://identifiers.org/pubchem.compound/4261'}, 'classes': 'chemical-node'}, {'data': {'id': 'chemical_4261_https://identifiers.org/aop.events/1502', 'source': 'chemical_4261', 'target': 'https://identifiers.org/aop.events/1502', 'label': 'is stressor of', 'type': 'is stressor of'}}, {'data': {'id': 'chemical_12251', 'label': 'Methoxyacetic acid', 'type': 'chemical', 'pubchem_id': '12251', 'cas_id': '12251', 'chemical_label': 'Methoxyacetic acid', 'compound_name': 'Methoxyacetic acid', 'pubchem_compound': 'https://identifiers.org/pubchem.compound/12251'}, 'classes': 'chemical-node'}, {'data': {'id': 'chemical_12251_https://identifiers.org/aop.events/1502', 'source': 'chemical_12251', 'target': 'https://identifiers.org/aop.events/1502', 'label': 'is stressor of', 'type': 'is stressor of'}}, {'data': {'id': 'chemical_5311', 'label': 'Suberoylanilide hydroxamic acid', 'type': 'chemical', 'pubchem_id': '5311', 'cas_id': '5311', 'chemical_label': 'Suberoylanilide hydroxamic acid', 'compound_name': 'Suberoylanilide hydroxamic acid', 'pubchem_compound': 'https://identifiers.org/pubchem.compound/5311'}, 'classes': 'chemical-node'}, {'data': {'id': 'chemical_5311_https://identifiers.org/aop.events/1502', 'source': 'chemical_5311', 'target': 'https://identifiers.org/aop.events/1502', 'label': 'is stressor of', 'type': 'is stressor of'}}, {'data': {'id': 'chemical_444732', 'label': 'Trichostatin A', 'type': 'chemical', 'pubchem_id': '444732', 'cas_id': '444732', 'chemical_label': 'Trichostatin A', 'compound_name': 'Trichostatin A', 'pubchem_compound': 'https://identifiers.org/pubchem.compound/444732'}, 'classes': 'chemical-node'}, {'data': {'id': 'chemical_444732_https://identifiers.org/aop.events/1502', 'source': 'chemical_444732', 'target': 'https://identifiers.org/aop.events/1502', 'label': 'is stressor of', 'type': 'is stressor of'}}, {'data': {'id': 'chemical_444732', 'label': 'Trichostatin A', 'type': 'chemical', 'pubchem_id': '444732', 'cas_id': '444732', 'chemical_label': 'Trichostatin A', 'compound_name': 'Trichostatin A', 'pubchem_compound': 'https://identifiers.org/pubchem.compound/444732'}, 'classes': 'chemical-node'}, {'data': {'id': 'chemical_444732_https://identifiers.org/aop.events/1502', 'source': 'chemical_444732', 'target': 'https://identifiers.org/aop.events/1502', 'label': 'is stressor of', 'type': 'is stressor of'}}, {'data': {'id': 'chemical_3121', 'label': 'Valproic acid', 'type': 'chemical', 'pubchem_id': '3121', 'cas_id': '3121', 'chemical_label': 'Valproic acid', 'compound_name': 'Valproic acid', 'pubchem_compound': 'https://identifiers.org/pubchem.compound/3121'}, 'classes': 'chemical-node'}, {'data': {'id': 'chemical_3121_https://identifiers.org/aop.events/1502', 'source': 'chemical_3121', 'target': 'https://identifiers.org/aop.events/1502', 'label': 'is stressor of', 'type': 'is stressor of'}}, {'data': {'id': 'process_GO_0010467', 'label': 'gene expression', 'type': 'component_process', 'process_iri': 'http://purl.obolibrary.org/obo/GO_0010467', 'process_name': 'gene expression', 'process_id': 'GO_0010467'}, 'classes': 'component_process'}, {'data': {'id': 'aop.events_1239_process_GO_0010467', 'source': 'https://identifiers.org/aop.events/1239', 'target': 'process_GO_0010467', 'label': 'abnormal', 'type': 'has process'}}, {'data': {'id': 'process_GO_0006915', 'label': 'apoptotic process', 'type': 'component_process', 'process_iri': 'http://purl.obolibrary.org/obo/GO_0006915', 'process_name': 'apoptotic process', 'process_id': 'GO_0006915'}, 'classes': 'component_process'}, {'data': {'id': 'aop.events_1262_process_GO_0006915', 'source': 'https://identifiers.org/aop.events/1262', 'target': 'process_GO_0006915', 'label': 'has process', 'type': 'has process'}}, {'data': {'id': 'process_GO_0004857', 'label': 'enzyme inhibitor activity', 'type': 'component_process', 'process_iri': 'http://purl.obolibrary.org/obo/GO_0004857', 'process_name': 'enzyme inhibitor activity', 'process_id': 'GO_0004857'}, 'classes': 'component_process'}, {'data': {'id': 'aop.events_1502_process_GO_0004857', 'source': 'https://identifiers.org/aop.events/1502', 'target': 'process_GO_0004857', 'label': 'has process', 'type': 'has process'}}, {'data': {'id': 'object_PR_000008478', 'label': 'histone deacetylase 1', 'type': 'protein', 'object_iri': 'http://purl.obolibrary.org/obo/PR_000008478', 'object_name': 'histone deacetylase 1', 'object_id': 'PR_000008478'}, 'classes': 'protein component_object'}, {'data': {'id': 'aop.events_1502_object_PR_000008478', 'source': 'https://identifiers.org/aop.events/1502', 'target': 'object_PR_000008478', 'label': 'involves', 'type': 'involves'}}, {'data': {'id': 'process_GO_0031399', 'label': 'regulation of protein modification process', 'type': 'component_process', 'process_iri': 'http://purl.obolibrary.org/obo/GO_0031399', 'process_name': 'regulation of protein modification process', 'process_id': 'GO_0031399'}, 'classes': 'component_process'}, {'data': {'id': 'aop.events_1503_process_GO_0031399', 'source': 'https://identifiers.org/aop.events/1503', 'target': 'process_GO_0031399', 'label': 'has process', 'type': 'has process'}}, {'data': {'id': 'object_CHEBI_15358', 'label': 'histone', 'type': 'component_object', 'object_iri': 'http://purl.obolibrary.org/obo/CHEBI_15358', 'object_name': 'histone', 'object_id': 'CHEBI_15358'}, 'classes': 'component_object'}, {'data': {'id': 'aop.events_1503_object_CHEBI_15358', 'source': 'https://identifiers.org/aop.events/1503', 'target': 'object_CHEBI_15358', 'label': 'involves', 'type': 'involves'}}, {'data': {'id': 'process_GO_0051726', 'label': 'regulation of cell cycle', 'type': 'component_process', 'process_iri': 'http://purl.obolibrary.org/obo/GO_0051726', 'process_name': 'regulation of cell cycle', 'process_id': 'GO_0051726'}, 'classes': 'component_process'}, {'data': {'id': 'aop.events_1505_process_GO_0051726', 'source': 'https://identifiers.org/aop.events/1505', 'target': 'process_GO_0051726', 'label': 'disrupted', 'type': 'has process'}}, {'data': {'id': 'object_PR_000029191', 'label': 'cell cycle-related cyclin', 'type': 'protein', 'object_iri': 'http://purl.obolibrary.org/obo/PR_000029191', 'object_name': 'cell cycle-related cyclin', 'object_id': 'PR_000029191'}, 'classes': 'protein component_object'}, {'data': {'id': 'aop.events_1505_object_PR_000029191', 'source': 'https://identifiers.org/aop.events/1505', 'target': 'object_PR_000029191', 'label': 'involves', 'type': 'involves'}}, {'data': {'id': 'process_HP_0000029', 'label': 'Testicular atrophy', 'type': 'component_process', 'process_iri': 'http://purl.obolibrary.org/obo/HP_0000029', 'process_name': 'Testicular atrophy', 'process_id': 'HP_0000029'}, 'classes': 'component_process'}, {'data': {'id': 'aop.events_1506_process_HP_0000029', 'source': 'https://identifiers.org/aop.events/1506', 'target': 'process_HP_0000029', 'label': 'has process', 'type': 'has process'}}, {'data': {'id': 'object_FMA_7210', 'label': 'Testis', 'type': 'organ', 'object_iri': 'http://purl.obolibrary.org/obo/FMA_7210', 'object_name': 'Testis', 'object_id': 'FMA_7210'}, 'classes': 'organ component_object'}, {'data': {'id': 'aop.events_1506_object_FMA_7210', 'source': 'https://identifiers.org/aop.events/1506', 'target': 'object_FMA_7210', 'label': 'involves', 'type': 'involves'}}, {'data': {'id': 'process_GO_0030154', 'label': 'cell differentiation', 'type': 'component_process', 'process_iri': 'http://purl.obolibrary.org/obo/GO_0030154', 'process_name': 'cell differentiation', 'process_id': 'GO_0030154'}, 'classes': 'component_process'}, {'data': {'id': 'aop.events_1560_process_GO_0030154', 'source': 'https://identifiers.org/aop.events/1560', 'target': 'process_GO_0030154', 'label': 'abnormal', 'type': 'has process'}}, {'data': {'id': 'object_GO_0005623', 'label': 'cell', 'type': 'cell', 'object_iri': 'http://purl.obolibrary.org/obo/GO_0005623', 'object_name': 'cell', 'object_id': 'GO_0005623'}, 'classes': 'cell component_object'}, {'data': {'id': 'aop.events_1560_object_GO_0005623', 'source': 'https://identifiers.org/aop.events/1560', 'target': 'object_GO_0005623', 'label': 'involves', 'type': 'involves'}}], 'style': [{'selector': 'node', 'style': {'width': '350px', 'height': '350px', 'background-color': '#ffff99', 'label': 'data(label)', 'text-wrap': 'wrap', 'text-max-width': '235px', 'text-valign': 'center', 'text-halign': 'center', 'color': '#000', 'font-size': '40px', 'border-width': '2px', 'border-color': '#000', 'transition-property': 'width, height, font-size, text-max-width', 'transition-duration': '0.3s', 'transition-timing-function': 'ease-out'}}, {'selector': \"node[type='mie']\", 'style': {'background-color': '#ccffcc'}}, {'selector': \"node[type='ao']\", 'style': {'background-color': '#ffe6e6'}}, {'selector': \"node[type='protein']\", 'style': {'background-color': '#ffff99'}}, {'selector': \"node[type='gene']\", 'style': {'background-color': '#ffcc99'}}, {'selector': \"node[type='chemical'], .chemical-node\", 'style': {'width': '270px', 'height': '200px', 'shape': 'triangle', 'background-color': '#93d5f6', 'label': 'data(label)', 'text-wrap': 'wrap', 'text-max-width': '190px', 'text-valign': 'top', 'text-halign': 'center', 'color': '#000', 'font-size': '90px', 'border-width': 2, 'border-color': '#000', 'text-margin-y': 3, 'transition-property': 'width, height, font-size, text-max-width', 'transition-duration': '0.3s', 'transition-timing-function': 'ease-out'}}, {'selector': \"edge[type='ker'], edge[ker_label]\", 'style': {'curve-style': 'unbundled-bezier', 'width': '40px', 'line-color': '#93d5f6', 'opacity': 1, 'target-arrow-shape': 'triangle', 'target-arrow-color': '#93d5f6', 'label': 'data(ker_label)', 'text-margin-y': 1, 'text-rotation': 'autorotate', 'font-size': '40px', 'font-weight': 'bold', 'color': '#000', 'transition-property': 'width, font-size', 'transition-duration': '0.3s', 'transition-timing-function': 'ease-out'}}, {'selector': \"node[type='protein'], .protein-node\", 'style': {'shape': 'round-rectangle', 'width': '400px', 'height': '200px', 'opacity': 1, 'label': 'data(label)', 'background-color': '#e3f2fd', 'background-gradient-direction': 'to-bottom-right', 'background-gradient-stop-colors': '#e3f2fd #bbdefb', 'text-valign': 'center', 'text-halign': 'center', 'color': '#0d47a1', 'font-size': '36px', 'font-weight': '600', 'font-family': 'Arial, sans-serif', 'font-color': '#000000', 'text-wrap': 'wrap', 'text-max-width': '180px', 'border-width': '2px', 'border-color': '#1976d2', 'border-style': 'solid', 'box-shadow': '0px 4px 8px rgba(0,0,0,0.2)', 'padding': '4px', 'transition-property': 'font-size, width, height, border-width, box-shadow', 'transition-duration': '0.3s', 'transition-timing-function': 'ease-out'}}, {'selector': \"node[type='gene'], .gene-node\", 'style': {'shape': 'ellipse', 'width': '200px', 'height': '100px', 'background-opacity': 0, 'label': 'data(label)', 'text-valign': 'center', 'text-halign': 'center', 'text-wrap': 'wrap', 'text-max-width': '180px', 'color': '#000000', 'font-size': '45px', 'font-weight': 'bold', 'border-width': 0, 'border-color': 'transparent', 'transition-property': 'font-size, width, height, text-max-width', 'transition-duration': '0.3s', 'transition-timing-function': 'ease-out'}}, {'selector': 'edge[label]', 'style': {'label': 'data(label)', 'text-rotation': 'autorotate', 'text-margin-y': -15, 'font-size': '40px', 'curve-style': 'unbundled-bezier', 'transition-property': 'font-size', 'transition-duration': '0.3s', 'transition-timing-function': 'ease-out'}}, {'selector': \"edge[type='interaction']\", 'style': {'width': '40px', 'line-color': '#ceafc0', 'opacity': 1, 'target-arrow-shape': 'triangle', 'target-arrow-color': '#ceafc0', 'text-margin-y': 1, 'text-rotation': 'autorotate', 'font-size': '40px', 'font-weight': 'bold', 'color': '#000', 'transition-property': 'width, font-size', 'transition-duration': '0.3s', 'transition-timing-function': 'ease-out'}}, {'selector': '.qspr-prediction-edge', 'style': {'width': '35px', 'line-color': '#ff6b6b', 'opacity': 1, 'target-arrow-shape': 'triangle', 'target-arrow-color': '#ff6b6b', 'text-margin-y': 1, 'text-rotation': 'autorotate', 'font-size': '35px', 'font-weight': 'bold', 'color': '#000', 'line-style': 'dashed', 'transition-property': 'width, font-size', 'transition-duration': '0.3s', 'transition-timing-function': 'ease-out'}}, {'selector': '.bounding-box', 'style': {'shape': 'roundrectangle', 'background-opacity': 0.1, 'border-width': 2, 'border-color': '#000', 'label': 'data(label)', 'text-valign': 'top', 'text-halign': 'center', 'font-size': '50px', 'text-wrap': 'wrap', 'font-weight': 'bold', 'text-max-width': '1400px', 'transition-property': 'font-size, text-max-width', 'transition-duration': '0.3s', 'transition-timing-function': 'ease-out'}}, {'selector': \"node[type='component_process'], .process-node\", 'style': {'shape': 'roundrectangle', 'width': '320px', 'height': '140px', 'background-color': '#ffffff', 'border-width': '1px', 'border-color': '#000000', 'label': 'data(label)', 'text-valign': 'center', 'text-halign': 'center', 'font-size': '32px', 'font-weight': 'normal', 'color': '#2196f3', 'text-wrap': 'wrap', 'text-max-width': '300px', 'transition-property': 'width, height, font-size, text-max-width, border-width', 'transition-duration': '0.3s', 'transition-timing-function': 'ease-out'}}, {'selector': \"node[type='component_object'], .object-node\", 'style': {'shape': 'roundrectangle', 'width': '280px', 'height': '280px', 'background-color': '#f3e5f5', 'border-width': '2px', 'border-color': '#9c27b0', 'label': 'data(label)', 'text-valign': 'center', 'text-halign': 'center', 'font-size': '36px', 'font-weight': 'bold', 'color': '#4a148c', 'text-wrap': 'wrap', 'text-max-width': '260px', 'transition-property': 'width, height, font-size, text-max-width, border-width', 'transition-duration': '0.3s', 'transition-timing-function': 'ease-out'}}, {'selector': \"edge[type='has process']\", 'style': {'curve-style': 'bezier', 'width': '20px', 'line-color': '#4caf50', 'opacity': 1, 'target-arrow-shape': 'triangle', 'target-arrow-color': '#4caf50', 'arrow-scale': 1.5, 'label': 'data(label)', 'text-rotation': 'autorotate', 'text-margin-y': '-5px', 'font-size': '30px', 'font-weight': 'bold', 'color': '#2e7d32', 'transition-property': 'width, font-size, text-margin-y', 'transition-duration': '0.3s', 'transition-timing-function': 'ease-out'}}, {'selector': \"edge[type='has object']\", 'style': {'curve-style': 'bezier', 'width': '20px', 'line-color': '#9c27b0', 'opacity': 1, 'target-arrow-shape': 'triangle', 'target-arrow-color': '#9c27b0', 'arrow-scale': 1.2, 'line-style': 'dashed', 'label': 'data(label)', 'text-rotation': 'autorotate', 'text-margin-y': '-5px', 'font-size': '26px', 'color': '#4a148c', 'transition-property': 'width, font-size, text-margin-y', 'transition-duration': '0.3s', 'transition-timing-function': 'ease-out'}}, {'selector': \"edge[label='increased process quality'], edge[label='decreased process quality'], edge[label='delayed'], edge[label='occurrence'], edge[label='abnormal'], edge[label='premature'], edge[label='disrupted'], edge[label='functional change'], edge[label='morphological change'], edge[label='pathological'], edge[label='arrested']\", 'style': {'curve-style': 'bezier', 'width': '20px', 'line-color': '#4caf50', 'opacity': 1, 'target-arrow-shape': 'triangle', 'target-arrow-color': '#4caf50', 'arrow-scale': 1.8, 'label': 'data(label)', 'text-rotation': 'autorotate', 'text-margin-y': '-8px', 'font-size': '28px', 'font-weight': 'bold', 'color': '#1b5e20', 'text-background-color': '#e8f5e8', 'text-background-opacity': 1, 'text-background-padding': '2px', 'transition-property': 'width, font-size, text-margin-y, text-background-padding', 'transition-duration': '0.3s', 'transition-timing-function': 'ease-out'}}, {'selector': \"node[type='organ'], .organ-node\", 'style': {'shape': 'round-rectangle', 'width': '150px', 'height': '150px', 'background-color': '#8e7cc3', 'border-width': '2px', 'border-color': '#6a5acd', 'label': 'data(label)', 'text-valign': 'center', 'text-halign': 'center', 'font-size': '40px', 'font-weight': 'bold', 'color': '#ffffff', 'text-outline-color': '#6a5acd', 'text-outline-width': 1, 'text-wrap': 'wrap', 'text-max-width': '50px', 'padding': '8px', 'opacity': 1, 'transition-property': 'width, height, font-size, text-max-width, border-width, padding', 'transition-duration': '0.3s', 'transition-timing-function': 'ease-out'}}, {'selector': \"node[type='cell'], .cell-node\", 'style': {'shape': 'octagon', 'width': '180px', 'height': '180px', 'background-color': '#9b59b6', 'border-width': '3px', 'border-color': '#7d3c98', 'label': 'data(label)', 'text-valign': 'center', 'text-halign': 'center', 'font-size': '38px', 'font-weight': 'bold', 'color': '#ffffff', 'text-outline-color': '#7d3c98', 'text-outline-width': 1, 'text-wrap': 'wrap', 'text-max-width': '160px', 'padding': '6px', 'opacity': 15, 'transition-property': 'width, height, font-size, text-max-width, border-width, padding', 'transition-duration': '0.3s', 'transition-timing-function': 'ease-out'}}, {'selector': \"node[type='quality'], .quality-node\", 'style': {'shape': 'diamond', 'width': '160px', 'height': '160px', 'background-color': '#f39c12', 'border-width': '2px', 'border-color': '#e67e22', 'label': 'data(label)', 'text-valign': 'center', 'text-halign': 'center', 'font-size': '35px', 'font-weight': 'bold', 'color': '#ffffff', 'text-outline-color': '#e67e22', 'text-outline-width': 1, 'text-wrap': 'wrap', 'text-max-width': '140px', 'padding': '4px', 'opacity': 1, 'transition-property': 'width, height, font-size, text-max-width, border-width, padding', 'transition-duration': '0.3s', 'transition-timing-function': 'ease-out'}}, {'selector': 'node:selected', 'style': {'border-width': '14px', 'border-color': '#1976d2', 'z-index': 9999}}, {'selector': \"edge[type='involves'], edge[type='expression_in']\", 'style': {'curve-style': 'straight', 'width': '20px', 'line-color': '#b19cd9', 'opacity': 1, 'target-arrow-shape': 'triangle', 'target-arrow-color': '#b19cd9', 'arrow-scale': 1.2, 'source-endpoint': 'outside-to-node', 'target-endpoint': 'outside-to-node', 'transition-property': 'width', 'transition-duration': '0.3s', 'transition-timing-function': 'ease-out'}}, {'selector': \"edge[type='involves']:selected, edge[type='expression_in']:selected\", 'style': {'line-color': '#8e7cc3', 'target-arrow-color': '#8e7cc3', 'width': '3px', 'opacity': 1}}], 'layout': {'name': 'breadthfirst', 'directed': True, 'padding': 30}}\n"
     ]
    }
   ],
   "source": [
    "my_aop_network = builder.network\n",
    "print(my_aop_network.to_cytoscape_elements())"
   ]
  },
  {
   "cell_type": "markdown",
   "id": "7e5772ae",
   "metadata": {},
   "source": [
    "### Export to Cytoscape CX2\n",
    "The network, metadata, and its styles are exported to Cytoscape Export format (CX2) using the `to_cx2` method."
   ]
  },
  {
   "cell_type": "code",
   "execution_count": 10,
   "id": "356f689d",
   "metadata": {},
   "outputs": [],
   "source": [
    "#TBD"
   ]
  },
  {
   "cell_type": "markdown",
   "id": "9fde2bc4",
   "metadata": {
    "vscode": {
     "languageId": "ruby"
    }
   },
   "source": [
    "### Export to Cytoscape CX2\n",
    "The network, metadata, and its styles are exported to Cytoscape Export format (CX2) using the `to_cx2` method."
   ]
  },
  {
   "cell_type": "code",
   "execution_count": 11,
   "id": "2dcdb5a2",
   "metadata": {},
   "outputs": [],
   "source": [
    "#TBD"
   ]
  },
  {
   "cell_type": "markdown",
   "id": "39380150",
   "metadata": {},
   "source": [
    "### Export to Neo4j\n",
    "The network, metadata, and its styles are exported to Neo4j `to_neo4j` method."
   ]
  },
  {
   "cell_type": "code",
   "execution_count": 12,
   "id": "ce24c1b7",
   "metadata": {},
   "outputs": [],
   "source": [
    "#TBD"
   ]
  },
  {
   "cell_type": "markdown",
   "id": "9ff6a288",
   "metadata": {},
   "source": [
    "### Export to RDF\n",
    "The network, metadata, and its styles are exported to AOP-Wiki RDF schema-compliant format using the `to_rdf` method."
   ]
  },
  {
   "cell_type": "code",
   "execution_count": 13,
   "id": "1737f40d",
   "metadata": {},
   "outputs": [],
   "source": [
    "#TBD"
   ]
  }
 ],
 "metadata": {
  "kernelspec": {
   "display_name": "pyaop",
   "language": "python",
   "name": "python3"
  },
  "language_info": {
   "codemirror_mode": {
    "name": "ipython",
    "version": 3
   },
   "file_extension": ".py",
   "mimetype": "text/x-python",
   "name": "python",
   "nbconvert_exporter": "python",
   "pygments_lexer": "ipython3",
   "version": "3.11.12"
  }
 },
 "nbformat": 4,
 "nbformat_minor": 5
}
